{
 "cells": [
  {
   "cell_type": "code",
   "execution_count": 1,
   "metadata": {
    "collapsed": false
   },
   "outputs": [
    {
     "name": "stderr",
     "output_type": "stream",
     "text": [
      "Using Theano backend.\n"
     ]
    },
    {
     "name": "stdout",
     "output_type": "stream",
     "text": [
      "Couldn't import dot_parser, loading of dot files will not be possible.\n"
     ]
    },
    {
     "name": "stderr",
     "output_type": "stream",
     "text": [
      "/Users/lawrencemacbook/anaconda/lib/python2.7/site-packages/theano/tensor/signal/downsample.py:6: UserWarning: downsample module has been moved to the theano.tensor.signal.pool module.\n",
      "  \"downsample module has been moved to the theano.tensor.signal.pool module.\")\n"
     ]
    }
   ],
   "source": [
    "from keras.models import Sequential\n",
    "from keras.layers import Dense, Dropout, Activation\n",
    "from keras.optimizers import SGD"
   ]
  },
  {
   "cell_type": "code",
   "execution_count": 28,
   "metadata": {
    "collapsed": false
   },
   "outputs": [],
   "source": [
    "# Setting up a MLP model. Using Dropout to prevent overfitting\n",
    "\n",
    "model = Sequential()\n",
    "model.add(Dense(10, input_dim=10, init='uniform', activation='relu'))\n",
    "model.add(Dropout(0.5))\n",
    "model.add(Dense(1000, activation='relu'))\n",
    "model.add(Dropout(0.5))\n",
    "model.add(Dense(1, activation='sigmoid'))\n",
    "\n",
    "model.compile(loss='mse', optimizer='rmsprop')"
   ]
  },
  {
   "cell_type": "code",
   "execution_count": 40,
   "metadata": {
    "collapsed": false
   },
   "outputs": [],
   "source": [
    "# Loading features and labels from a CSV file\n",
    "\n",
    "import csv\n",
    "import numpy as np\n",
    "X = []\n",
    "col_pos = []\n",
    "col_neg = []\n",
    "col_neu = []\n",
    "with open('data_template.csv', 'rb') as f:\n",
    "    reader = csv.reader(f)\n",
    "    next(f)\n",
    "    for row in reader:\n",
    "        X.append(list(row[:-3]))\n",
    "        col_pos.append(row[-3])\n",
    "        col_neg.append(row[-2])\n",
    "        col_neu.append(row[-1])"
   ]
  },
  {
   "cell_type": "code",
   "execution_count": 41,
   "metadata": {
    "collapsed": false
   },
   "outputs": [],
   "source": [
    "X_train = np.array(X)\n",
    "y_train = np.array(col_pos)"
   ]
  },
  {
   "cell_type": "code",
   "execution_count": 42,
   "metadata": {
    "collapsed": false
   },
   "outputs": [
    {
     "name": "stdout",
     "output_type": "stream",
     "text": [
      "Epoch 1/10\n",
      "11/11 [==============================] - 0s - loss: 0.2210\n",
      "Epoch 2/10\n",
      "11/11 [==============================] - 0s - loss: 0.2204\n",
      "Epoch 3/10\n",
      "11/11 [==============================] - 0s - loss: 0.2199\n",
      "Epoch 4/10\n",
      "11/11 [==============================] - 0s - loss: 0.2167\n",
      "Epoch 5/10\n",
      "11/11 [==============================] - 0s - loss: 0.2170\n",
      "Epoch 6/10\n",
      "11/11 [==============================] - 0s - loss: 0.2124\n",
      "Epoch 7/10\n",
      "11/11 [==============================] - 0s - loss: 0.2073\n",
      "Epoch 8/10\n",
      "11/11 [==============================] - 0s - loss: 0.2104\n",
      "Epoch 9/10\n",
      "11/11 [==============================] - 0s - loss: 0.2047\n",
      "Epoch 10/10\n",
      "11/11 [==============================] - 0s - loss: 0.2040\n"
     ]
    },
    {
     "data": {
      "text/plain": [
       "<keras.callbacks.History at 0x10b919590>"
      ]
     },
     "execution_count": 42,
     "metadata": {},
     "output_type": "execute_result"
    }
   ],
   "source": [
    "model.fit(X_train, y_train, nb_epoch=10, batch_size=11, verbose=1)"
   ]
  },
  {
   "cell_type": "code",
   "execution_count": 43,
   "metadata": {
    "collapsed": false
   },
   "outputs": [
    {
     "name": "stdout",
     "output_type": "stream",
     "text": [
      "1/1 [==============================] - 0s\n",
      "[[ 0.37067795]]\n"
     ]
    }
   ],
   "source": [
    "proba = model.predict_proba(np.array([[0, 1, 1, 0, 1, 0, 0, 0, 0, 0]]), batch_size=1)\n",
    "print proba"
   ]
  },
  {
   "cell_type": "code",
   "execution_count": 34,
   "metadata": {
    "collapsed": false
   },
   "outputs": [
    {
     "data": {
      "text/plain": [
       "array([0])"
      ]
     },
     "execution_count": 34,
     "metadata": {},
     "output_type": "execute_result"
    }
   ],
   "source": []
  },
  {
   "cell_type": "code",
   "execution_count": 37,
   "metadata": {
    "collapsed": true
   },
   "outputs": [],
   "source": [
    "json_string = model.to_json()\n",
    "open('test_model.json', 'w').write(json_string)\n",
    "model.save_weights('test_model_weights.h5')\n",
    "\n",
    "# elsewhere...\n",
    "# model = model_from_json(open('my_model_architecture.json').read())\n",
    "# model.load_weights('my_model_weights.h5')"
   ]
  },
  {
   "cell_type": "code",
   "execution_count": null,
   "metadata": {
    "collapsed": true
   },
   "outputs": [],
   "source": []
  }
 ],
 "metadata": {
  "kernelspec": {
   "display_name": "Python 2",
   "language": "python",
   "name": "python2"
  },
  "language_info": {
   "codemirror_mode": {
    "name": "ipython",
    "version": 2
   },
   "file_extension": ".py",
   "mimetype": "text/x-python",
   "name": "python",
   "nbconvert_exporter": "python",
   "pygments_lexer": "ipython2",
   "version": "2.7.11"
  }
 },
 "nbformat": 4,
 "nbformat_minor": 0
}
