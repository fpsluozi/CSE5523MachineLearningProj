{
 "cells": [
  {
   "cell_type": "code",
   "execution_count": 1,
   "metadata": {
    "collapsed": false
   },
   "outputs": [
    {
     "name": "stderr",
     "output_type": "stream",
     "text": [
      "Using Theano backend.\n"
     ]
    },
    {
     "name": "stdout",
     "output_type": "stream",
     "text": [
      "Couldn't import dot_parser, loading of dot files will not be possible.\n"
     ]
    },
    {
     "name": "stderr",
     "output_type": "stream",
     "text": [
      "/Users/lawrencemacbook/anaconda/lib/python2.7/site-packages/theano/tensor/signal/downsample.py:6: UserWarning: downsample module has been moved to the theano.tensor.signal.pool module.\n",
      "  \"downsample module has been moved to the theano.tensor.signal.pool module.\")\n"
     ]
    }
   ],
   "source": [
    "from keras.models import Sequential\n",
    "from keras.layers import Dense, Dropout, Activation\n",
    "from keras.optimizers import SGD\n",
    "import csv\n",
    "import numpy as np"
   ]
  },
  {
   "cell_type": "code",
   "execution_count": 2,
   "metadata": {
    "collapsed": false
   },
   "outputs": [],
   "source": [
    "# Loading features and labels from a CSV file\n",
    "\n",
    "X = []\n",
    "col_pos = []\n",
    "col_neg = []\n",
    "col_neu = []\n",
    "with open('featureMatrixBase.csv', 'rb') as f:\n",
    "    reader = csv.reader(f)\n",
    "    next(f)\n",
    "    j = 0\n",
    "    int_row = []\n",
    "    for row in reader:\n",
    "        int_row = [int(i) for i in row]\n",
    "        if sum(int_row[:-3]) >= 1:\n",
    "            X.append(int_row[:-3])\n",
    "            col_pos.append(int_row[-3])\n",
    "            col_neg.append(int_row[-2])\n",
    "            col_neu.append(int_row[-1])\n",
    "\n",
    "X_train = np.array(X)\n",
    "y_train = np.array(col_pos)\n",
    "n_feature = len(X[0])\n",
    "y_train_neg = np.array(col_pos)\n",
    "y_train_neu = np.array(col_neu)"
   ]
  },
  {
   "cell_type": "code",
   "execution_count": 35,
   "metadata": {
    "collapsed": true
   },
   "outputs": [],
   "source": []
  },
  {
   "cell_type": "code",
   "execution_count": 27,
   "metadata": {
    "collapsed": false
   },
   "outputs": [],
   "source": [
    "# Setting up a MLP model. Using Dropout to prevent overfitting\n",
    "# Positive\n",
    "model = Sequential()\n",
    "model.add(Dense(10, input_dim=n_feature, init='uniform', activation='relu'))\n",
    "model.add(Dropout(0.5))\n",
    "model.add(Dense(2000, activation='relu'))\n",
    "model.add(Dropout(0.5))\n",
    "model.add(Dense(500, activation='relu'))\n",
    "model.add(Dropout(0.5))\n",
    "model.add(Dense(1, activation='sigmoid'))\n",
    "model.compile(loss='mse', optimizer='rmsprop')"
   ]
  },
  {
   "cell_type": "code",
   "execution_count": 57,
   "metadata": {
    "collapsed": true
   },
   "outputs": [],
   "source": [
    "# Setting up a MLP model. Using Dropout to prevent overfitting\n",
    "# Positive 2\n",
    "model_pos2 = Sequential()\n",
    "model_pos2.add(Dense(10, input_dim=n_feature, init='uniform', activation='relu'))\n",
    "model_pos2.add(Dropout(0.5))\n",
    "model_pos2.add(Dense(2000, activation='relu'))\n",
    "model_pos2.add(Dropout(0.5))\n",
    "model_pos2.add(Dense(500, activation='relu'))\n",
    "model_pos2.add(Dropout(0.5))\n",
    "model_pos2.add(Dense(200, activation='relu'))\n",
    "model_pos2.add(Dropout(0.5))\n",
    "model_pos2.add(Dense(1, activation='sigmoid'))\n",
    "model_pos2.compile(loss='mse', optimizer='rmsprop')"
   ]
  },
  {
   "cell_type": "code",
   "execution_count": 33,
   "metadata": {
    "collapsed": false
   },
   "outputs": [],
   "source": [
    "# Setting up a MLP model. Using Dropout to prevent overfitting\n",
    "# Negative\n",
    "model_neg = Sequential()\n",
    "model_neg.add(Dense(10, input_dim=n_feature, init='uniform', activation='relu'))\n",
    "model_neg.add(Dropout(0.5))\n",
    "model_neg.add(Dense(2000, activation='relu'))\n",
    "model_neg.add(Dropout(0.5))\n",
    "model_neg.add(Dense(500, activation='relu'))\n",
    "model_neg.add(Dropout(0.5))\n",
    "model_neg.add(Dense(1, activation='sigmoid'))\n",
    "model_neg.compile(loss='mse', optimizer='rmsprop')"
   ]
  },
  {
   "cell_type": "code",
   "execution_count": 34,
   "metadata": {
    "collapsed": true
   },
   "outputs": [],
   "source": [
    "# Setting up a MLP model. Using Dropout to prevent overfitting\n",
    "# Neutral\n",
    "model_neu = Sequential()\n",
    "model_neu.add(Dense(10, input_dim=n_feature, init='uniform', activation='relu'))\n",
    "model_neu.add(Dropout(0.5))\n",
    "model_neu.add(Dense(2000, activation='relu'))\n",
    "model_neu.add(Dropout(0.5))\n",
    "model_neu.add(Dense(500, activation='relu'))\n",
    "model_neu.add(Dropout(0.5))\n",
    "model_neu.add(Dense(1, activation='sigmoid'))\n",
    "model_neu.compile(loss='mse', optimizer='rmsprop')"
   ]
  },
  {
   "cell_type": "code",
   "execution_count": null,
   "metadata": {
    "collapsed": false
   },
   "outputs": [],
   "source": [
    "# num of epoch = 30\n",
    "model.fit(X_train, y_train, nb_epoch=13, batch_size=100, verbose=1)"
   ]
  },
  {
   "cell_type": "code",
   "execution_count": 43,
   "metadata": {
    "collapsed": false
   },
   "outputs": [
    {
     "name": "stdout",
     "output_type": "stream",
     "text": [
      "13866/13866 [==============================] - 6s     \n"
     ]
    },
    {
     "data": {
      "text/plain": [
       "0.054268740415857955"
      ]
     },
     "execution_count": 43,
     "metadata": {},
     "output_type": "execute_result"
    }
   ],
   "source": [
    "model.evaluate(X_train, y_train, batch_size=5)"
   ]
  },
  {
   "cell_type": "code",
   "execution_count": 50,
   "metadata": {
    "collapsed": false
   },
   "outputs": [
    {
     "name": "stdout",
     "output_type": "stream",
     "text": [
      "Epoch 1/5\n",
      "13866/13866 [==============================] - 8s - loss: 0.0634     \n",
      "Epoch 2/5\n",
      "13866/13866 [==============================] - 8s - loss: 0.0652     \n",
      "Epoch 3/5\n",
      "13866/13866 [==============================] - 8s - loss: 0.0635     \n",
      "Epoch 4/5\n",
      "13866/13866 [==============================] - 8s - loss: 0.0632     \n",
      "Epoch 5/5\n",
      "13866/13866 [==============================] - 8s - loss: 0.0627     \n"
     ]
    },
    {
     "data": {
      "text/plain": [
       "<keras.callbacks.History at 0x10de9c510>"
      ]
     },
     "execution_count": 50,
     "metadata": {},
     "output_type": "execute_result"
    }
   ],
   "source": [
    "model_neg.fit(X_train, y_train_neg, nb_epoch=5, batch_size=100, verbose=1)"
   ]
  },
  {
   "cell_type": "code",
   "execution_count": 51,
   "metadata": {
    "collapsed": false
   },
   "outputs": [
    {
     "name": "stdout",
     "output_type": "stream",
     "text": [
      "13866/13866 [==============================] - 6s     \n"
     ]
    },
    {
     "data": {
      "text/plain": [
       "0.053281976855182232"
      ]
     },
     "execution_count": 51,
     "metadata": {},
     "output_type": "execute_result"
    }
   ],
   "source": [
    "model_neg.evaluate(X_train, y_train_neg, batch_size=5)"
   ]
  },
  {
   "cell_type": "code",
   "execution_count": 63,
   "metadata": {
    "collapsed": false
   },
   "outputs": [],
   "source": [
    "result = model_pos2.fit(X_train, y_train, nb_epoch=9, batch_size=100, verbose=0)"
   ]
  },
  {
   "cell_type": "code",
   "execution_count": 64,
   "metadata": {
    "collapsed": false
   },
   "outputs": [
    {
     "name": "stdout",
     "output_type": "stream",
     "text": [
      "13866/13866 [==============================] - 8s     \n"
     ]
    },
    {
     "data": {
      "text/plain": [
       "0.051362150968171108"
      ]
     },
     "execution_count": 64,
     "metadata": {},
     "output_type": "execute_result"
    }
   ],
   "source": [
    "model_pos2.evaluate(X_train, y_train, batch_size=5)"
   ]
  },
  {
   "cell_type": "code",
   "execution_count": 36,
   "metadata": {
    "collapsed": false
   },
   "outputs": [
    {
     "name": "stdout",
     "output_type": "stream",
     "text": [
      "0.838814366075\n"
     ]
    }
   ],
   "source": [
    "from sklearn import svm\n",
    "\n",
    "# Gaussian kernel SVM\n",
    "clf = svm.SVC(kernel='rbf')\n",
    "clf.fit(X_train, y_train)\n",
    "print clf.score(X_train, y_train)"
   ]
  },
  {
   "cell_type": "code",
   "execution_count": 37,
   "metadata": {
    "collapsed": false
   },
   "outputs": [
    {
     "data": {
      "text/plain": [
       "['svm_rbf_pos.pkl',\n",
       " 'svm_rbf_pos.pkl_01.npy',\n",
       " 'svm_rbf_pos.pkl_02.npy',\n",
       " 'svm_rbf_pos.pkl_03.npy',\n",
       " 'svm_rbf_pos.pkl_04.npy',\n",
       " 'svm_rbf_pos.pkl_05.npy',\n",
       " 'svm_rbf_pos.pkl_06.npy',\n",
       " 'svm_rbf_pos.pkl_07.npy',\n",
       " 'svm_rbf_pos.pkl_08.npy',\n",
       " 'svm_rbf_pos.pkl_09.npy',\n",
       " 'svm_rbf_pos.pkl_10.npy',\n",
       " 'svm_rbf_pos.pkl_11.npy']"
      ]
     },
     "execution_count": 37,
     "metadata": {},
     "output_type": "execute_result"
    }
   ],
   "source": [
    "from sklearn.externals import joblib\n",
    "joblib.dump(clf, 'svm_rbf_pos.pkl') \n",
    "# clf = joblib.load('filename.pkl') "
   ]
  },
  {
   "cell_type": "code",
   "execution_count": 40,
   "metadata": {
    "collapsed": false
   },
   "outputs": [
    {
     "name": "stdout",
     "output_type": "stream",
     "text": [
      "0.937328717727\n"
     ]
    }
   ],
   "source": [
    "# Linear SVM\n",
    "\n",
    "clf2 = svm.SVC(kernel='linear')\n",
    "clf2.fit(X_train, y_train)\n",
    "joblib.dump(clf2, 'models/svm_linear_pos.pkl') \n",
    "print clf2.score(X_train, y_train)"
   ]
  },
  {
   "cell_type": "code",
   "execution_count": 39,
   "metadata": {
    "collapsed": false
   },
   "outputs": [
    {
     "name": "stdout",
     "output_type": "stream",
     "text": [
      "0.987\n"
     ]
    }
   ],
   "source": [
    "print clf2.score(X_train, y_train)"
   ]
  },
  {
   "cell_type": "code",
   "execution_count": 65,
   "metadata": {
    "collapsed": false
   },
   "outputs": [
    {
     "name": "stdout",
     "output_type": "stream",
     "text": [
      "[WARNING] models/model_mlp_pos_weights.h5 already exists - overwrite? [y/n]y\n",
      "[TIP] Next time specify overwrite=True in save_weights!\n"
     ]
    }
   ],
   "source": [
    "json_string = model.to_json()\n",
    "open('models/model_mlp_pos.json', 'w').write(json_string)\n",
    "model.save_weights('models/model_mlp_pos_weights.h5')\n",
    "\n",
    "# elsewhere...\n",
    "# model = model_from_json(open('my_model_architecture.json').read())\n",
    "# model.load_weights('my_model_weights.h5')"
   ]
  },
  {
   "cell_type": "code",
   "execution_count": 66,
   "metadata": {
    "collapsed": true
   },
   "outputs": [],
   "source": [
    "json_string = model_pos2.to_json()\n",
    "open('models/model_mlp_pos2.json', 'w').write(json_string)\n",
    "model.save_weights('models/model_mlp_pos2_weights.h5')"
   ]
  },
  {
   "cell_type": "code",
   "execution_count": 55,
   "metadata": {
    "collapsed": false
   },
   "outputs": [
    {
     "name": "stdout",
     "output_type": "stream",
     "text": [
      "[WARNING] models/model_mlp_neg_weights.h5 already exists - overwrite? [y/n]y\n",
      "[TIP] Next time specify overwrite=True in save_weights!\n"
     ]
    }
   ],
   "source": [
    "json_string = model_neg.to_json()\n",
    "open('models/model_mlp_neg.json', 'w').write(json_string)\n",
    "model_neg.save_weights('models/model_mlp_neg_weights.h5')"
   ]
  },
  {
   "cell_type": "code",
   "execution_count": 81,
   "metadata": {
    "collapsed": false
   },
   "outputs": [],
   "source": [
    "from sklearn.externals import joblib\n"
   ]
  },
  {
   "cell_type": "code",
   "execution_count": 16,
   "metadata": {
    "collapsed": false
   },
   "outputs": [
    {
     "data": {
      "text/plain": [
       "10257"
      ]
     },
     "execution_count": 16,
     "metadata": {},
     "output_type": "execute_result"
    }
   ],
   "source": [
    "\n",
    "n_feature"
   ]
  },
  {
   "cell_type": "code",
   "execution_count": 77,
   "metadata": {
    "collapsed": false
   },
   "outputs": [
    {
     "data": {
      "text/plain": [
       "array([0, 0, 0, ..., 0, 0, 0])"
      ]
     },
     "execution_count": 77,
     "metadata": {},
     "output_type": "execute_result"
    }
   ],
   "source": [
    "X_train[0,:]"
   ]
  },
  {
   "cell_type": "code",
   "execution_count": null,
   "metadata": {
    "collapsed": true
   },
   "outputs": [],
   "source": []
  }
 ],
 "metadata": {
  "kernelspec": {
   "display_name": "Python 2",
   "language": "python",
   "name": "python2"
  },
  "language_info": {
   "codemirror_mode": {
    "name": "ipython",
    "version": 2
   },
   "file_extension": ".py",
   "mimetype": "text/x-python",
   "name": "python",
   "nbconvert_exporter": "python",
   "pygments_lexer": "ipython2",
   "version": "2.7.11"
  }
 },
 "nbformat": 4,
 "nbformat_minor": 0
}
